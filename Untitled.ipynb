{
 "cells": [
  {
   "cell_type": "code",
   "execution_count": 2,
   "metadata": {},
   "outputs": [
    {
     "name": "stdout",
     "output_type": "stream",
     "text": [
      "array(['\"California\"', '\"Texas\"', '\"Florida\"', '\"New York\"',\n",
      "       '\"Pennsylvania\"', '\"Illinois\"', '\"Ohio\"', '\"Georgia\"',\n",
      "       '\"North Carolina\"', '\"Michigan\"', '\"New Jersey\"', '\"Virginia\"',\n",
      "       '\"Washington\"', '\"Arizona\"', '\"Massachusetts\"', '\"Tennessee\"',\n",
      "       '\"Indiana\"', '\"Missouri\"', '\"Maryland\"', '\"Wisconsin\"',\n",
      "       '\"Colorado\"', '\"Minnesota\"', '\"South Carolina\"', '\"Alabama\"',\n",
      "       '\"Louisiana\"', '\"Kentucky\"', '\"Oregon\"', '\"Oklahoma\"',\n",
      "       '\"Connecticut\"', '\"Utah\"', '\"Iowa\"', '\"Puerto Rico\"', '\"Nevada\"',\n",
      "       '\"Arkansas\"', '\"Mississippi\"', '\"Kansas\"', '\"New Mexico\"',\n",
      "       '\"Nebraska\"', '\"West Virginia\"', '\"Idaho\"', '\"Hawaii\"',\n",
      "       '\"New Hampshire\"', '\"Maine\"', '\"Montana\"', '\"Rhode Island\"',\n",
      "       '\"Delaware\"', '\"South Dakota\"', '\"North Dakota\"', '\"Alaska\"',\n",
      "       '\"District of Columbia\"', '\"Vermont\"', '\"Wyoming\"'], dtype='<U22')\n",
      "array([39747267, 29087070, 21646155, 19491339, 12813969, 12700381,\n",
      "       11718568, 10627767, 10497741, 10020472,  8922547,  8571946,\n",
      "        7666343,  7275070,  6939373,  6833793,  6718616,  6147861,\n",
      "        6062917,  5832661,  5770545,  5655925,  5147111,  4898246,\n",
      "        4652581,  4484047,  4245901,  3948950,  3567871,  3221610,\n",
      "        3167997,  3113659,  3087025,  3026412,  2987895,  2910931,\n",
      "        2096034,  1940919,  1791951,  1790182,  1416589,  1363852,\n",
      "        1342097,  1074532,  1056738,   975033,   892631,   760900,\n",
      "         735720,   711571,   627180,   572381])\n"
     ]
    }
   ],
   "source": [
    "import numpy as np\n",
    "import csv\n",
    "from pprint import pprint\n",
    "\n",
    "filename = \"data.csv\"\n",
    "with open(filename,\"r\") as csvfile:\n",
    "    dialect = csv.Sniffer().sniff(csvfile.read(1024))\n",
    "    \n",
    "    csvfile.seek(0)\n",
    "    \n",
    "    delimiter = dialect.delimiter\n",
    "    reader = csv.reader(csvfile, quotechar='\"', delimiter=delimiter,\n",
    "                        quoting=csv.QUOTE_ALL, skipinitialspace=True)\n",
    "    \n",
    "    headers = np.array(next(reader))\n",
    "              \n",
    "    states = np.genfromtxt(filename,\n",
    "                           dtype=str,\n",
    "                           skip_header=1,\n",
    "                           usecols=(1),\n",
    "                           delimiter=delimiter,\n",
    "                           filling_values=\"\")\n",
    "    \n",
    "    pops = np.genfromtxt(filename,\n",
    "                         dtype=int,\n",
    "                         skip_header=1,\n",
    "                         usecols=(2),\n",
    "                         delimiter=delimiter,\n",
    "                         filling_values=\"\")\n",
    "    \n",
    "    pprint(states)\n",
    "    pprint(pops)\n",
    "    "
   ]
  },
  {
   "cell_type": "code",
   "execution_count": 3,
   "metadata": {},
   "outputs": [
    {
     "data": {
      "text/plain": [
       "332356872"
      ]
     },
     "execution_count": 3,
     "metadata": {},
     "output_type": "execute_result"
    }
   ],
   "source": [
    "pops.sum()"
   ]
  },
  {
   "cell_type": "code",
   "execution_count": 4,
   "metadata": {},
   "outputs": [
    {
     "data": {
      "text/plain": [
       "52"
      ]
     },
     "execution_count": 4,
     "metadata": {},
     "output_type": "execute_result"
    }
   ],
   "source": [
    "len(states)"
   ]
  },
  {
   "cell_type": "code",
   "execution_count": 5,
   "metadata": {},
   "outputs": [],
   "source": [
    "nstates = len(states)\n",
    "avgpop = pops.sum() / nstates"
   ]
  },
  {
   "cell_type": "code",
   "execution_count": 6,
   "metadata": {},
   "outputs": [
    {
     "data": {
      "text/plain": [
       "6391478.307692308"
      ]
     },
     "execution_count": 6,
     "metadata": {},
     "output_type": "execute_result"
    }
   ],
   "source": [
    "avgpop"
   ]
  },
  {
   "cell_type": "code",
   "execution_count": 7,
   "metadata": {},
   "outputs": [
    {
     "name": "stdout",
     "output_type": "stream",
     "text": [
      "Help on built-in function max in module builtins:\n",
      "\n",
      "max(...)\n",
      "    max(iterable, *[, default=obj, key=func]) -> value\n",
      "    max(arg1, arg2, *args, *[, key=func]) -> value\n",
      "    \n",
      "    With a single iterable argument, return its biggest item. The\n",
      "    default keyword-only argument specifies an object to return if\n",
      "    the provided iterable is empty.\n",
      "    With two or more arguments, return the largest argument.\n",
      "\n"
     ]
    }
   ],
   "source": [
    "help(max)"
   ]
  },
  {
   "cell_type": "code",
   "execution_count": 9,
   "metadata": {},
   "outputs": [
    {
     "data": {
      "text/plain": [
       "572381"
      ]
     },
     "execution_count": 9,
     "metadata": {},
     "output_type": "execute_result"
    }
   ],
   "source": [
    "pops.min()"
   ]
  },
  {
   "cell_type": "code",
   "execution_count": 10,
   "metadata": {},
   "outputs": [],
   "source": [
    "minpop = pops.min()"
   ]
  },
  {
   "cell_type": "code",
   "execution_count": 18,
   "metadata": {},
   "outputs": [
    {
     "data": {
      "text/plain": [
       "[1398397.1538461521,\n",
       " 3521156.769230768,\n",
       " 2471720.076923076,\n",
       " 316904.07692307606,\n",
       " 31012.384615384042,\n",
       " 6308902.692307692,\n",
       " 5327089.692307692,\n",
       " 4236288.692307692,\n",
       " 4106262.692307692,\n",
       " 3628993.692307692,\n",
       " 2531068.692307692,\n",
       " 2180467.692307692,\n",
       " 1274864.692307692,\n",
       " 883591.692307692,\n",
       " 547894.692307692,\n",
       " 442314.692307692,\n",
       " 327137.692307692,\n",
       " 6147861.0,\n",
       " 6062917.0,\n",
       " 5832661.0,\n",
       " 5770545.0,\n",
       " 5655925.0,\n",
       " 5147111.0,\n",
       " 4898246.0,\n",
       " 4652581.0,\n",
       " 4484047.0,\n",
       " 4245901.0,\n",
       " 3948950.0,\n",
       " 3567871.0,\n",
       " 3221610.0,\n",
       " 3167997.0,\n",
       " 3113659.0,\n",
       " 3087025.0,\n",
       " 3026412.0,\n",
       " 2987895.0,\n",
       " 2910931.0,\n",
       " 2096034.0,\n",
       " 1940919.0,\n",
       " 1791951.0,\n",
       " 1790182.0,\n",
       " 1416589.0,\n",
       " 1363852.0,\n",
       " 1342097.0,\n",
       " 1074532.0,\n",
       " 1056738.0,\n",
       " 975033.0,\n",
       " 892631.0,\n",
       " 760900.0,\n",
       " 735720.0,\n",
       " 711571.0,\n",
       " 627180.0,\n",
       " 572381.0]"
      ]
     },
     "execution_count": 18,
     "metadata": {},
     "output_type": "execute_result"
    }
   ],
   "source": [
    "[p%avgpop for p in pops]"
   ]
  },
  {
   "cell_type": "code",
   "execution_count": 20,
   "metadata": {},
   "outputs": [
    {
     "data": {
      "text/plain": [
       "array([7, 5, 4, 3, 2, 2, 2, 2, 2, 2, 2, 2, 2, 2, 1, 1, 1, 1, 1, 1, 1, 1,\n",
       "       1, 1, 1, 1, 1, 1, 1, 1, 1, 1, 1, 1, 1, 1, 1, 1, 1, 1, 1, 1, 1, 1,\n",
       "       1, 1, 1, 1, 1, 1, 1, 1])"
      ]
     },
     "execution_count": 20,
     "metadata": {},
     "output_type": "execute_result"
    }
   ],
   "source": [
    "N = np.array([(int(p/avgpop) + (1 if p % avgpop >= minpop else 0)) for p in pops])\n",
    "N"
   ]
  },
  {
   "cell_type": "code",
   "execution_count": 21,
   "metadata": {},
   "outputs": [
    {
     "data": {
      "text/plain": [
       "array([14, 10,  8,  6,  4,  4,  4,  4,  4,  4,  4,  4,  4,  4,  2,  2,  2,\n",
       "        2,  2,  2,  2,  2,  2,  2,  2,  2,  2,  2,  2,  2,  2,  2,  2,  2,\n",
       "        2,  2,  2,  2,  2,  2,  2,  2,  2,  2,  2,  2,  2,  2,  2,  2,  2,\n",
       "        2])"
      ]
     },
     "execution_count": 21,
     "metadata": {},
     "output_type": "execute_result"
    }
   ],
   "source": [
    "TwoN = N * 2\n",
    "TwoN"
   ]
  },
  {
   "cell_type": "code",
   "execution_count": 22,
   "metadata": {},
   "outputs": [
    {
     "data": {
      "text/plain": [
       "154"
      ]
     },
     "execution_count": 22,
     "metadata": {},
     "output_type": "execute_result"
    }
   ],
   "source": [
    "TwoN.sum()"
   ]
  },
  {
   "cell_type": "code",
   "execution_count": 23,
   "metadata": {},
   "outputs": [
    {
     "name": "stdout",
     "output_type": "stream",
     "text": [
      "[('\"California\"', 14), ('\"Texas\"', 10), ('\"Florida\"', 8), ('\"New York\"', 6), ('\"Pennsylvania\"', 4), ('\"Illinois\"', 4), ('\"Ohio\"', 4), ('\"Georgia\"', 4), ('\"North Carolina\"', 4), ('\"Michigan\"', 4), ('\"New Jersey\"', 4), ('\"Virginia\"', 4), ('\"Washington\"', 4), ('\"Arizona\"', 4), ('\"Massachusetts\"', 2), ('\"Tennessee\"', 2), ('\"Indiana\"', 2), ('\"Missouri\"', 2), ('\"Maryland\"', 2), ('\"Wisconsin\"', 2), ('\"Colorado\"', 2), ('\"Minnesota\"', 2), ('\"South Carolina\"', 2), ('\"Alabama\"', 2), ('\"Louisiana\"', 2), ('\"Kentucky\"', 2), ('\"Oregon\"', 2), ('\"Oklahoma\"', 2), ('\"Connecticut\"', 2), ('\"Utah\"', 2), ('\"Iowa\"', 2), ('\"Puerto Rico\"', 2), ('\"Nevada\"', 2), ('\"Arkansas\"', 2), ('\"Mississippi\"', 2), ('\"Kansas\"', 2), ('\"New Mexico\"', 2), ('\"Nebraska\"', 2), ('\"West Virginia\"', 2), ('\"Idaho\"', 2), ('\"Hawaii\"', 2), ('\"New Hampshire\"', 2), ('\"Maine\"', 2), ('\"Montana\"', 2), ('\"Rhode Island\"', 2), ('\"Delaware\"', 2), ('\"South Dakota\"', 2), ('\"North Dakota\"', 2), ('\"Alaska\"', 2), ('\"District of Columbia\"', 2), ('\"Vermont\"', 2), ('\"Wyoming\"', 2)]\n"
     ]
    }
   ],
   "source": [
    "print([pair for pair in zip(states,TwoN)])"
   ]
  },
  {
   "cell_type": "code",
   "execution_count": 24,
   "metadata": {},
   "outputs": [
    {
     "name": "stdout",
     "output_type": "stream",
     "text": [
      "[('\"California\"', 7), ('\"Texas\"', 5), ('\"Florida\"', 4), ('\"New York\"', 3), ('\"Pennsylvania\"', 2), ('\"Illinois\"', 2), ('\"Ohio\"', 2), ('\"Georgia\"', 2), ('\"North Carolina\"', 2), ('\"Michigan\"', 2), ('\"New Jersey\"', 2), ('\"Virginia\"', 2), ('\"Washington\"', 2), ('\"Arizona\"', 2), ('\"Massachusetts\"', 1), ('\"Tennessee\"', 1), ('\"Indiana\"', 1), ('\"Missouri\"', 1), ('\"Maryland\"', 1), ('\"Wisconsin\"', 1), ('\"Colorado\"', 1), ('\"Minnesota\"', 1), ('\"South Carolina\"', 1), ('\"Alabama\"', 1), ('\"Louisiana\"', 1), ('\"Kentucky\"', 1), ('\"Oregon\"', 1), ('\"Oklahoma\"', 1), ('\"Connecticut\"', 1), ('\"Utah\"', 1), ('\"Iowa\"', 1), ('\"Puerto Rico\"', 1), ('\"Nevada\"', 1), ('\"Arkansas\"', 1), ('\"Mississippi\"', 1), ('\"Kansas\"', 1), ('\"New Mexico\"', 1), ('\"Nebraska\"', 1), ('\"West Virginia\"', 1), ('\"Idaho\"', 1), ('\"Hawaii\"', 1), ('\"New Hampshire\"', 1), ('\"Maine\"', 1), ('\"Montana\"', 1), ('\"Rhode Island\"', 1), ('\"Delaware\"', 1), ('\"South Dakota\"', 1), ('\"North Dakota\"', 1), ('\"Alaska\"', 1), ('\"District of Columbia\"', 1), ('\"Vermont\"', 1), ('\"Wyoming\"', 1)]\n"
     ]
    }
   ],
   "source": [
    "print([pair for pair in zip(states,\n",
    "                            N)])"
   ]
  },
  {
   "cell_type": "code",
   "execution_count": 26,
   "metadata": {},
   "outputs": [
    {
     "data": {
      "text/plain": [
       "52.0"
      ]
     },
     "execution_count": 26,
     "metadata": {},
     "output_type": "execute_result"
    }
   ],
   "source": [
    "pops.sum()/avgpop"
   ]
  },
  {
   "cell_type": "code",
   "execution_count": 28,
   "metadata": {},
   "outputs": [
    {
     "data": {
      "text/plain": [
       "array([6, 4, 3, 3, 2, 1, 1, 1, 1, 1, 1, 1, 1, 1, 1, 1, 1, 1, 1, 1, 1, 1,\n",
       "       1, 1, 1, 1, 1, 1, 1, 1, 1, 1, 1, 1, 1, 1, 1, 1, 1, 1, 1, 1, 1, 1,\n",
       "       1, 1, 1, 1, 1, 1, 1, 1])"
      ]
     },
     "execution_count": 28,
     "metadata": {},
     "output_type": "execute_result"
    }
   ],
   "source": [
    "AltN = np.array([(int(p/avgpop) if (p / avgpop >= 1) else 1) for p in pops])\n",
    "AltN"
   ]
  },
  {
   "cell_type": "code",
   "execution_count": 29,
   "metadata": {},
   "outputs": [
    {
     "data": {
      "text/plain": [
       "65"
      ]
     },
     "execution_count": 29,
     "metadata": {},
     "output_type": "execute_result"
    }
   ],
   "source": [
    "AltN.sum()\n"
   ]
  },
  {
   "cell_type": "code",
   "execution_count": 30,
   "metadata": {},
   "outputs": [
    {
     "data": {
      "text/plain": [
       "77"
      ]
     },
     "execution_count": 30,
     "metadata": {},
     "output_type": "execute_result"
    }
   ],
   "source": [
    "N.sum()"
   ]
  },
  {
   "cell_type": "code",
   "execution_count": 31,
   "metadata": {},
   "outputs": [
    {
     "data": {
      "text/plain": [
       "array([7, 5, 4, 3, 2, 2, 2, 2, 2, 2, 2, 2, 2, 2, 1, 1, 1, 1, 1, 1, 1, 1,\n",
       "       1, 1, 1, 1, 1, 1, 1, 1, 1, 1, 1, 1, 1, 1, 1, 1, 1, 1, 1, 1, 1, 1,\n",
       "       1, 1, 1, 1, 1, 1, 1, 1])"
      ]
     },
     "execution_count": 31,
     "metadata": {},
     "output_type": "execute_result"
    }
   ],
   "source": [
    "N"
   ]
  },
  {
   "cell_type": "code",
   "execution_count": null,
   "metadata": {},
   "outputs": [],
   "source": []
  }
 ],
 "metadata": {
  "kernelspec": {
   "display_name": "Python 3",
   "language": "python",
   "name": "python3"
  },
  "language_info": {
   "codemirror_mode": {
    "name": "ipython",
    "version": 3
   },
   "file_extension": ".py",
   "mimetype": "text/x-python",
   "name": "python",
   "nbconvert_exporter": "python",
   "pygments_lexer": "ipython3",
   "version": "3.7.3"
  }
 },
 "nbformat": 4,
 "nbformat_minor": 2
}
